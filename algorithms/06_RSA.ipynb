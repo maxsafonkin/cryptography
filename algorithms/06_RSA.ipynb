{
 "cells": [
  {
   "cell_type": "code",
   "execution_count": 675,
   "metadata": {},
   "outputs": [],
   "source": [
    "import math\n",
    "\n",
    "def gcd_extended(a, b):\n",
    "    if b == 0:\n",
    "        return a, 1, 0\n",
    "    else:\n",
    "        gcd, x1, y1 = gcd_extended(b, a % b)\n",
    "        x = y1\n",
    "        y = x1 - (a // b) * y1\n",
    "        return gcd, x, y\n",
    "\n",
    "\n",
    "def chinese_remainder(primes, a):\n",
    "    s, mod = 0, math.prod(primes)\n",
    "    for p_i, a_i in zip(primes, a):\n",
    "        n = mod // p_i\n",
    "        s += a_i * gcd_extended(n, p_i)[1] * n\n",
    "    return s % mod\n",
    "\n",
    "def fast_pow(base: int, exp: int, mod: int) -> int:\n",
    "    result = 1\n",
    "    base = base % mod\n",
    "    while exp > 0:\n",
    "        if exp % 2 == 1:\n",
    "            result = (result * base) % mod\n",
    "        exp //= 2\n",
    "        base = (base * base) % mod\n",
    "    return result"
   ]
  },
  {
   "cell_type": "code",
   "execution_count": 676,
   "metadata": {},
   "outputs": [],
   "source": [
    "from Crypto.Util import number\n",
    "from dataclasses import dataclass\n",
    "\n",
    "\n",
    "@dataclass\n",
    "class KeyPair:\n",
    "    p: int\n",
    "    q: int\n",
    "    public_key: tuple[int]\n",
    "    private_key: tuple[int]\n",
    "\n",
    "\n",
    "class KeyGenerator:\n",
    "    def __init__(self, prime_length: int):\n",
    "        self._prime_length = prime_length\n",
    "\n",
    "    def generate(self) -> KeyPair:\n",
    "        p, q = self._generate_primes()\n",
    "        n = p * q\n",
    "        d, e = self._calc_d_e(p, q)\n",
    "        return KeyPair(p=p, q=q, public_key=(e, n), private_key=(d, n))\n",
    "\n",
    "    def _generate_primes(self) -> tuple[int, int]:\n",
    "        p, q = self._get_prime(self._prime_length), self._get_prime(self._prime_length)\n",
    "        while p == q or self._are_too_close(p, q):\n",
    "            p, q = self._get_prime(self._prime_length), self._get_prime(self._prime_length)\n",
    "        return p, q\n",
    "\n",
    "    def _calc_d_e(self, p: int, q: int) -> tuple[int, int]:\n",
    "        fi = (p - 1) * (q - 1)\n",
    "        e = self._get_prime(fi.bit_length() - 1)\n",
    "        _, x, _ = gcd_extended(e, fi)\n",
    "        d = x % fi\n",
    "        return d, e\n",
    "\n",
    "    @staticmethod\n",
    "    def _get_prime(n_length: int) -> int:\n",
    "        return number.getPrime(n_length)\n",
    "    \n",
    "    @staticmethod\n",
    "    def _are_too_close(p: int, q: int) -> bool:\n",
    "        return abs(p - q) < 2 ** (p.bit_length() // 2)"
   ]
  },
  {
   "cell_type": "code",
   "execution_count": 677,
   "metadata": {},
   "outputs": [],
   "source": [
    "class RSA:\n",
    "    def __init__(self, prime_length: int = 512):\n",
    "        self._keys = KeyGenerator(prime_length).generate()\n",
    "\n",
    "    def encrypt(self, plaintext: str) -> list[int]:\n",
    "        ascii_plaintext = list(map(ord, plaintext))\n",
    "        return [self._encrypt_char(c) for c in ascii_plaintext]\n",
    "\n",
    "    def _encrypt_char(self, ascii_char: int) -> int:\n",
    "        e, n = self._keys.public_key\n",
    "        return fast_pow(ascii_char, e, n)\n",
    "\n",
    "    def decrypt(self, ciphertext: list[int]) -> str:\n",
    "        decrypted_chars = [self._decrypt_char(c) for c in ciphertext]\n",
    "        return ''.join(map(chr, decrypted_chars))\n",
    "\n",
    "    def _decrypt_char(self, encrypted_char: int) -> int:\n",
    "        d, _ = self._keys.private_key\n",
    "        p, q = self._keys.p, self._keys.q\n",
    "        m1 = pow(encrypted_char, d, p)\n",
    "        m2 = pow(encrypted_char, d, q)\n",
    "        m = chinese_remainder([p, q], [m1, m2])\n",
    "        return m"
   ]
  },
  {
   "cell_type": "code",
   "execution_count": 678,
   "metadata": {},
   "outputs": [
    {
     "name": "stdout",
     "output_type": "stream",
     "text": [
      "[34325392568281786678658393419578493361995203779330378730710935020457221028853525848128744054965207982454700743943817739346159409370975240948726133120047282215117755233239551324053203303594153318454122748182671982673611860759339045793799694199757958958651933780495567296151344400977949281359670221411218404284, 44055421317617174608456190724354894421309129367988771162745472376533199153658473543398602255729970940899346504271414098835832967042031051067239533335634705754735776188075108152991147893168193108032696819189518201626867409925262402901232493417594995556693752293494459144731709205512665636306203713395906876687, 28021480902551310383558218328396726909342842701108250406381391702377971000442650096631363667882470476079909238118755119268733358878506643773357298615557883485822301406037286885416780857502253478518500840101639114127866436038273012675019779845078251267856176024074936920107538263967416654796595537417061455014, 15910906858083679353584524528566868730501931297905361209110305929458891228298105775155111922582814502705177371766817947025565738862568542018285172718283831111242986189191545594145245502693900202679845614853776810926176059928051701713676812004239798228832458126021435789809458847807815414718783284232210758128, 73904859533558658739286976469690805418977762371329666299836173532912452386651771281836424551263420796325001652493517662070211725191954913449363686723832004635814947135944237219908642304462570265778534958107071136004418420181823020336391785679357798037930242773193641595502761064567529539122556654634940638309, 36852158051810768229016554350885064377337334173272326137306053976239291076247541199920422833443221123179818501008564286709771548741741838046675259089790402715481326218058283043972561263648361974584488255940580041890428804384743427024354188339671239935181871903266308605798012749143271436555411243127702572104, 36852158051810768229016554350885064377337334173272326137306053976239291076247541199920422833443221123179818501008564286709771548741741838046675259089790402715481326218058283043972561263648361974584488255940580041890428804384743427024354188339671239935181871903266308605798012749143271436555411243127702572104, 74713890952091787417816458333181674828584618028513387531164098095889355715619946559950292990428182872791462979224783132888041634534410311752796488764451767730690721455753177428216923571520084916305805700782225343479225026078041309010373216055132694424331932958018523881961829971522625551967271930788734549204, 77527018829216441736565428757742049043131225214542145652521726731242061250615700565451024078022674948009166091499528210248443079916587178282522656897850539614941657198522564124121156021858010359530705795540183200598533326046714986074686798660918365102214508208055093304621083242352278291276218303029966990462, 56459798689262237828972154531934012939717872370572510864895650080401898387049488888502998006911750832136572831697153117750584287445938871671313106488661076220483295802076392855581983137700979427331068312615389552814985769076005961881000214827745794654919179238763071930878669639850794460409576048493006061324, 77527018829216441736565428757742049043131225214542145652521726731242061250615700565451024078022674948009166091499528210248443079916587178282522656897850539614941657198522564124121156021858010359530705795540183200598533326046714986074686798660918365102214508208055093304621083242352278291276218303029966990462]\n"
     ]
    }
   ],
   "source": [
    "rsa = RSA()\n",
    "plain_text = \"FBIT 336959\"\n",
    "ciphertext = rsa.encrypt(plain_text)\n",
    "print(ciphertext)"
   ]
  },
  {
   "cell_type": "code",
   "execution_count": 679,
   "metadata": {},
   "outputs": [
    {
     "data": {
      "text/plain": [
       "'FBIT 336959'"
      ]
     },
     "execution_count": 679,
     "metadata": {},
     "output_type": "execute_result"
    }
   ],
   "source": [
    "plain_text = rsa.decrypt(ciphertext)\n",
    "plain_text"
   ]
  }
 ],
 "metadata": {
  "kernelspec": {
   "display_name": "Python 3",
   "language": "python",
   "name": "python3"
  },
  "language_info": {
   "codemirror_mode": {
    "name": "ipython",
    "version": 3
   },
   "file_extension": ".py",
   "mimetype": "text/x-python",
   "name": "python",
   "nbconvert_exporter": "python",
   "pygments_lexer": "ipython3",
   "version": "3.11.9"
  }
 },
 "nbformat": 4,
 "nbformat_minor": 2
}
