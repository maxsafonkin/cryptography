{
 "cells": [
  {
   "cell_type": "code",
   "execution_count": 675,
   "metadata": {},
   "outputs": [],
   "source": [
    "import math\n",
    "\n",
    "def gcd_extended(a, b):\n",
    "    if b == 0:\n",
    "        return a, 1, 0\n",
    "    else:\n",
    "        gcd, x1, y1 = gcd_extended(b, a % b)\n",
    "        x = y1\n",
    "        y = x1 - (a // b) * y1\n",
    "        return gcd, x, y\n",
    "\n",
    "\n",
    "def chinese_remainder(primes, a):\n",
    "    s, mod = 0, math.prod(primes)\n",
    "    for p_i, a_i in zip(primes, a):\n",
    "        n = mod // p_i\n",
    "        s += a_i * gcd_extended(n, p_i)[1] * n\n",
    "    return s % mod\n",
    "\n",
    "def fast_pow(base: int, exp: int, mod: int) -> int:\n",
    "    result = 1\n",
    "    base = base % mod\n",
    "    while exp > 0:\n",
    "        if exp % 2 == 1:\n",
    "            result = (result * base) % mod\n",
    "        exp //= 2\n",
    "        base = (base * base) % mod\n",
    "    return result"
   ]
  },
  {
   "cell_type": "code",
   "execution_count": 676,
   "metadata": {},
   "outputs": [],
   "source": [
    "from Crypto.Util import number\n",
    "from dataclasses import dataclass\n",
    "\n",
    "\n",
    "@dataclass\n",
    "class KeyPair:\n",
    "    p: int\n",
    "    q: int\n",
    "    public_key: tuple[int]\n",
    "    private_key: tuple[int]\n",
    "\n",
    "\n",
    "class KeyGenerator:\n",
    "    def __init__(self, prime_length: int):\n",
    "        self._prime_length = prime_length\n",
    "\n",
    "    def generate(self) -> KeyPair:\n",
    "        p, q = self._generate_primes()\n",
    "        n = p * q\n",
    "        d, e = self._calc_d_e(p, q)\n",
    "        return KeyPair(p=p, q=q, public_key=(e, n), private_key=(d, n))\n",
    "\n",
    "    def _generate_primes(self) -> tuple[int, int]:\n",
    "        p, q = self._get_prime(self._prime_length), self._get_prime(self._prime_length)\n",
    "        while p == q or self._are_too_close(p, q):\n",
    "            p, q = self._get_prime(self._prime_length), self._get_prime(self._prime_length)\n",
    "        return p, q\n",
    "\n",
    "    def _calc_d_e(self, p: int, q: int) -> tuple[int, int]:\n",
    "        fi = (p - 1) * (q - 1)\n",
    "        e = self._get_prime(fi.bit_length() - 1)\n",
    "        _, x, _ = gcd_extended(e, fi)\n",
    "        d = x % fi\n",
    "        return d, e\n",
    "\n",
    "    @staticmethod\n",
    "    def _get_prime(n_length: int) -> int:\n",
    "        return number.getPrime(n_length)\n",
    "    \n",
    "    @staticmethod\n",
    "    def _are_too_close(p: int, q: int) -> bool:\n",
    "        return abs(p - q) < 2 ** (p.bit_length() // 2)"
   ]
  },
  {
   "cell_type": "code",
   "execution_count": 677,
   "metadata": {},
   "outputs": [],
   "source": [
    "class RSA:\n",
    "    def __init__(self, prime_length: int = 512):\n",
    "        self._keys = KeyGenerator(prime_length).generate()\n",
    "\n",
    "    def encrypt(self, plaintext: str) -> list[int]:\n",
    "        ascii_plaintext = list(map(ord, plaintext))\n",
    "        return [self._encrypt_char(c) for c in ascii_plaintext]\n",
    "\n",
    "    def _encrypt_char(self, ascii_char: int) -> int:\n",
    "        e, n = self._keys.public_key\n",
    "        return fast_pow(ascii_char, e, n)\n",
    "\n",
    "    def decrypt(self, ciphertext: list[int]) -> str:\n",
    "        decrypted_chars = [self._decrypt_char(c) for c in ciphertext]\n",
    "        return ''.join(map(chr, decrypted_chars))\n",
    "\n",
    "    def _decrypt_char(self, encrypted_char: int) -> int:\n",
    "        d, _ = self._keys.private_key\n",
    "        p, q = self._keys.p, self._keys.q\n",
    "        m1 = pow(encrypted_char, d, p)\n",
    "        m2 = pow(encrypted_char, d, q)\n",
    "        m = chinese_remainder([p, q], [m1, m2])\n",
    "        return m"
   ]
  },
  {
   "cell_type": "code",
   "execution_count": null,
   "metadata": {},
   "outputs": [],
   "source": [
    "rsa = RSA()\n",
    "plain_text = \"FBIT 336959\"\n",
    "ciphertext = rsa.encrypt(plain_text)\n",
    "print(ciphertext)"
   ]
  },
  {
   "cell_type": "code",
   "execution_count": 679,
   "metadata": {},
   "outputs": [
    {
     "data": {
      "text/plain": [
       "'FBIT 336959'"
      ]
     },
     "execution_count": 679,
     "metadata": {},
     "output_type": "execute_result"
    }
   ],
   "source": [
    "plain_text = rsa.decrypt(ciphertext)\n",
    "plain_text"
   ]
  }
 ],
 "metadata": {
  "kernelspec": {
   "display_name": "Python 3",
   "language": "python",
   "name": "python3"
  },
  "language_info": {
   "codemirror_mode": {
    "name": "ipython",
    "version": 3
   },
   "file_extension": ".py",
   "mimetype": "text/x-python",
   "name": "python",
   "nbconvert_exporter": "python",
   "pygments_lexer": "ipython3",
   "version": "3.11.9"
  }
 },
 "nbformat": 4,
 "nbformat_minor": 2
}
