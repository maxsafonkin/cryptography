{
 "cells": [
  {
   "cell_type": "markdown",
   "metadata": {},
   "source": [
    "# Энигма"
   ]
  },
  {
   "cell_type": "markdown",
   "metadata": {},
   "source": [
    "## Parts of Enigma"
   ]
  },
  {
   "cell_type": "code",
   "execution_count": 1,
   "metadata": {},
   "outputs": [],
   "source": [
    "class Alphabet:\n",
    "    def __init__(self, alphabet: str) -> None:\n",
    "        self._alphabet = alphabet\n",
    "\n",
    "    def get_all(self) -> str:\n",
    "        return self._alphabet\n",
    "\n",
    "    def char2idx(self, char: str) -> int:\n",
    "        return self._alphabet.find(char)\n",
    "    \n",
    "    def idx2char(self, idx: int) -> str:\n",
    "        return self._alphabet[idx]\n",
    "    \n",
    "    def __len__(self) -> int:\n",
    "        return len(self._alphabet)"
   ]
  },
  {
   "cell_type": "code",
   "execution_count": 2,
   "metadata": {},
   "outputs": [],
   "source": [
    "class Rotor:\n",
    "    def __init__(self, alphabet: Alphabet, shift: int) -> None:\n",
    "        self._initial_shift = shift\n",
    "        self._shift = shift\n",
    "        self._alphabet = alphabet\n",
    "\n",
    "    def __call__(self, char: str, reverse: bool = False) -> str:\n",
    "        pos = self._alphabet.char2idx(char)\n",
    "        new_pos = (pos - self._shift if reverse else pos + self._shift) % len(self._alphabet)\n",
    "        return self._alphabet.idx2char(new_pos)\n",
    "\n",
    "    def increment(self) -> bool:\n",
    "        self._shift += 1\n",
    "        if self._shift >= len(self._alphabet):\n",
    "            self._shift = 0\n",
    "            return True\n",
    "        return False\n",
    "\n",
    "    def reset(self) -> None:\n",
    "        self._shift = self._initial_shift"
   ]
  },
  {
   "cell_type": "code",
   "execution_count": 3,
   "metadata": {},
   "outputs": [],
   "source": [
    "class Reflector:\n",
    "    def __init__(self, alphabet: Alphabet, mapping: dict[str, str]) -> None:\n",
    "        self._alphabet = alphabet\n",
    "        self._mapping = mapping\n",
    "    \n",
    "    def __call__(self, char: str) -> str:\n",
    "        return self._mapping[char]"
   ]
  },
  {
   "cell_type": "code",
   "execution_count": 4,
   "metadata": {},
   "outputs": [],
   "source": [
    "class Plugboard:\n",
    "    def __init__(self, repl_table: dict[str, str]) -> None:\n",
    "        self._repl_table = repl_table\n",
    "    \n",
    "    def __call__(self, char: str) -> str:\n",
    "        return self._repl_table[char]"
   ]
  },
  {
   "cell_type": "code",
   "execution_count": 5,
   "metadata": {},
   "outputs": [],
   "source": [
    "class Enigma:\n",
    "    def __init__(self, plugboard: Plugboard, rotors: list[Rotor], reflector: Reflector) -> None:\n",
    "        self._plugboard = plugboard\n",
    "        self._rotors = rotors\n",
    "        self._reflector = reflector\n",
    "    \n",
    "    def reset_rotors(self):\n",
    "        for rotor in self._rotors:\n",
    "            rotor.reset()\n",
    "    \n",
    "    def encode(self, text: str) -> str:\n",
    "        ciphertext = []\n",
    "        for c in text:\n",
    "            # passing through the plugboard \n",
    "            cipher_c = self._plugboard(c)\n",
    "\n",
    "            # passing through rotors (forward)\n",
    "            for r in self._rotors:\n",
    "                cipher_c = r(cipher_c)\n",
    "        \n",
    "            # passing through the reflector\n",
    "            cipher_c = self._reflector(cipher_c)\n",
    "\n",
    "            # passing back through the rotors (reverse)\n",
    "            for r in reversed(self._rotors):\n",
    "                cipher_c = r(cipher_c, reverse=True)\n",
    "            \n",
    "            # passing through the plugboard after reflection\n",
    "            cipher_c = self._plugboard(cipher_c)\n",
    "            \n",
    "            ciphertext.append(cipher_c)\n",
    "            # moving rotors 1 step forward\n",
    "            for r in self._rotors:\n",
    "                if not r.increment():\n",
    "                    break\n",
    "\n",
    "        return \"\".join(ciphertext)"
   ]
  },
  {
   "cell_type": "markdown",
   "metadata": {},
   "source": [
    "## Setting Up"
   ]
  },
  {
   "cell_type": "code",
   "execution_count": 6,
   "metadata": {},
   "outputs": [],
   "source": [
    "import string\n",
    "\n",
    "alphabet = Alphabet(string.ascii_lowercase + string.ascii_uppercase + \" \")\n",
    "\n",
    "rotors = [Rotor(alphabet, i) for i in range(1, 4)]\n",
    "\n",
    "repl_table = {c: c for c in alphabet.get_all()}\n",
    "replacements = [('a', 'b'), ('c', 'd'), ('e', 'f')]\n",
    "for (c1, c2) in replacements:\n",
    "    repl_table[c1] = c2\n",
    "    repl_table[c2] = c1\n",
    "\n",
    "plugboard = Plugboard(repl_table)\n",
    "\n",
    "reflector_mapping = {char: char for char in alphabet.get_all()}\n",
    "reflector_mapping.update({\n",
    "    alphabet.idx2char(i): alphabet.idx2char(len(alphabet) - i - 1) for i in range(len(alphabet))\n",
    "})\n",
    "\n",
    "reflector = Reflector(alphabet, reflector_mapping)\n",
    "\n",
    "enigma = Enigma(plugboard, rotors, reflector)"
   ]
  },
  {
   "cell_type": "markdown",
   "metadata": {},
   "source": [
    "## Encoding/Decoding"
   ]
  },
  {
   "cell_type": "code",
   "execution_count": 7,
   "metadata": {},
   "outputs": [
    {
     "name": "stdout",
     "output_type": "stream",
     "text": [
      "Encoded: hHzxs\n",
      "Decoded: Hello\n"
     ]
    }
   ],
   "source": [
    "enigma.reset_rotors()\n",
    "\n",
    "encoded_message = enigma.encode(\"Hello\")\n",
    "print(f\"Encoded: {encoded_message}\")\n",
    "\n",
    "enigma.reset_rotors()\n",
    "\n",
    "decoded_message = enigma.encode(encoded_message)\n",
    "print(f\"Decoded: {decoded_message}\")"
   ]
  }
 ],
 "metadata": {
  "kernelspec": {
   "display_name": "Python 3",
   "language": "python",
   "name": "python3"
  },
  "language_info": {
   "codemirror_mode": {
    "name": "ipython",
    "version": 3
   },
   "file_extension": ".py",
   "mimetype": "text/x-python",
   "name": "python",
   "nbconvert_exporter": "python",
   "pygments_lexer": "ipython3",
   "version": "3.11.9"
  }
 },
 "nbformat": 4,
 "nbformat_minor": 2
}
