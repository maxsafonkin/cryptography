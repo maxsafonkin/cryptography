{
 "cells": [
  {
   "cell_type": "markdown",
   "metadata": {},
   "source": [
    "# Моноалфавитные шифры"
   ]
  },
  {
   "cell_type": "markdown",
   "metadata": {},
   "source": [
    "## Table of Contents\n",
    "\n",
    "1. Шифр Цезаря\n",
    "2. Шифр перестановки\n",
    "3. Шифр замены"
   ]
  },
  {
   "cell_type": "markdown",
   "metadata": {},
   "source": [
    "## Шифр Цезаря"
   ]
  },
  {
   "cell_type": "markdown",
   "metadata": {},
   "source": [
    "Суть метода - замена каждой буквы в сообщении путем сдвига его номера в алфавите\n",
    "\n",
    "Пример:\n",
    "\n",
    "\n",
    "message = `abc`\n",
    "\n",
    "shift = `1`\n",
    "\n",
    "-> ciphertext = `bcd`\n"
   ]
  },
  {
   "cell_type": "code",
   "execution_count": 2,
   "metadata": {},
   "outputs": [],
   "source": [
    "import string\n",
    "\n",
    "charset = string.ascii_lowercase + string.ascii_uppercase + string.punctuation + string.digits\n",
    "idx2char = {i: charset[i] for i in range(len(charset))}\n",
    "char2idx = {v: k for k, v in idx2char.items()}"
   ]
  },
  {
   "cell_type": "code",
   "execution_count": 3,
   "metadata": {},
   "outputs": [],
   "source": [
    "def encrypt(plain_text: str, shift: int) -> str:\n",
    "    # removing chars which are not in charset\n",
    "    plain_text = \"\".join([c for c in plain_text if c in charset])\n",
    "\n",
    "    encrypted = \"\".join([idx2char[(char2idx[char] + shift) % len(charset)] for char in plain_text])\n",
    "    return encrypted"
   ]
  },
  {
   "cell_type": "code",
   "execution_count": 4,
   "metadata": {},
   "outputs": [],
   "source": [
    "def decrypt(ciphertext: str, shift: int) -> str:\n",
    "    decrypted = \"\".join([idx2char[(char2idx[char] - shift) % len(charset)] for char in ciphertext])\n",
    "    return decrypted"
   ]
  },
  {
   "cell_type": "code",
   "execution_count": 5,
   "metadata": {},
   "outputs": [
    {
     "data": {
      "text/plain": [
       "'ifmmp'"
      ]
     },
     "execution_count": 5,
     "metadata": {},
     "output_type": "execute_result"
    }
   ],
   "source": [
    "encrypted = encrypt(\"hello\", 1)\n",
    "encrypted"
   ]
  },
  {
   "cell_type": "code",
   "execution_count": 6,
   "metadata": {},
   "outputs": [
    {
     "data": {
      "text/plain": [
       "'hello'"
      ]
     },
     "execution_count": 6,
     "metadata": {},
     "output_type": "execute_result"
    }
   ],
   "source": [
    "decrypted = decrypt(encrypted, 1)\n",
    "decrypted"
   ]
  },
  {
   "cell_type": "code",
   "execution_count": 7,
   "metadata": {},
   "outputs": [],
   "source": [
    "def encrypt_caesar(message: str) -> str:\n",
    "    return encrypt(message, 3)\n",
    "\n",
    "def decrypt_caesar(message: str) -> str:\n",
    "    return decrypt(message, 3)"
   ]
  },
  {
   "cell_type": "code",
   "execution_count": 8,
   "metadata": {},
   "outputs": [
    {
     "data": {
      "text/plain": [
       "'khoor'"
      ]
     },
     "execution_count": 8,
     "metadata": {},
     "output_type": "execute_result"
    }
   ],
   "source": [
    "encrypted = encrypt_caesar(\"hello\")\n",
    "encrypted"
   ]
  },
  {
   "cell_type": "code",
   "execution_count": 9,
   "metadata": {},
   "outputs": [
    {
     "data": {
      "text/plain": [
       "'hello'"
      ]
     },
     "execution_count": 9,
     "metadata": {},
     "output_type": "execute_result"
    }
   ],
   "source": [
    "decrypted = decrypt_caesar(encrypted)\n",
    "decrypted"
   ]
  },
  {
   "cell_type": "markdown",
   "metadata": {},
   "source": [
    "# Aboba"
   ]
  },
  {
   "cell_type": "markdown",
   "metadata": {},
   "source": [
    "## Шифр перестановки"
   ]
  },
  {
   "cell_type": "markdown",
   "metadata": {},
   "source": [
    "Суть метода - замена каждой буквы в сообщении другой буквы из сообщения\n",
    "\n",
    "Пример:\n",
    "\n",
    "message = `abc`\n",
    "\n",
    "replacements_table:\n",
    "|before|after|\n",
    "|-|-|\n",
    "|a|c|\n",
    "|b|a|\n",
    "|c|b|\n",
    "\n",
    "-> ciphertext = `cab`"
   ]
  },
  {
   "cell_type": "code",
   "execution_count": 10,
   "metadata": {},
   "outputs": [],
   "source": [
    "import random\n",
    "\n",
    "def encrypt(plain_text: str) -> tuple[str, dict[int, int]]:\n",
    "    encrypted = []\n",
    "    replacements_table: dict[int, int] = dict()\n",
    "    for i in range(len(plain_text)):\n",
    "        available_positions = list(set(range(len(plain_text))).difference(replacements_table.values()))\n",
    "        new_position = random.choice(available_positions)\n",
    "        replacements_table[i] = new_position\n",
    "        encrypted.append(plain_text[new_position])\n",
    "    encrypted = \"\".join(encrypted)\n",
    "    return encrypted, replacements_table"
   ]
  },
  {
   "cell_type": "code",
   "execution_count": 11,
   "metadata": {},
   "outputs": [],
   "source": [
    "def decrypt(ciphertext: str, replacements_table: dict[int, int]) -> str:\n",
    "    replacements_table = {k: v for k, v in sorted(replacements_table.items(), key=lambda x: x[1])}\n",
    "    plain_text = [a for a in ciphertext]\n",
    "    for i in range(len(ciphertext)):\n",
    "        plain_text[replacements_table[i]] = ciphertext[i]\n",
    "    return \"\".join(plain_text)"
   ]
  },
  {
   "cell_type": "code",
   "execution_count": 12,
   "metadata": {},
   "outputs": [
    {
     "name": "stdout",
     "output_type": "stream",
     "text": [
      "lhoel\n",
      "{0: 2, 1: 0, 2: 4, 3: 1, 4: 3}\n"
     ]
    }
   ],
   "source": [
    "message = \"hello\"\n",
    "encrypted_msg, repl_table = encrypt(message)\n",
    "\n",
    "print(encrypted_msg)\n",
    "print(repl_table)"
   ]
  },
  {
   "cell_type": "code",
   "execution_count": 13,
   "metadata": {},
   "outputs": [
    {
     "data": {
      "text/plain": [
       "'hello'"
      ]
     },
     "execution_count": 13,
     "metadata": {},
     "output_type": "execute_result"
    }
   ],
   "source": [
    "decrypted = decrypt(encrypted_msg, repl_table)\n",
    "decrypted"
   ]
  },
  {
   "cell_type": "markdown",
   "metadata": {},
   "source": [
    "## Шифр замены"
   ]
  },
  {
   "cell_type": "markdown",
   "metadata": {},
   "source": [
    "Суть метода - создание таблицы замены букв алфавита\n",
    "\n",
    "Пример:\n",
    "\n",
    "message = `abc`\n",
    "\n",
    "replacements_table:\n",
    "|before|after|\n",
    "|-|-|\n",
    "|a|#|\n",
    "|b|%|\n",
    "|c|!|\n",
    "\n",
    "-> ciphertext = `#%!`"
   ]
  },
  {
   "cell_type": "code",
   "execution_count": 14,
   "metadata": {},
   "outputs": [],
   "source": [
    "import random\n",
    "\n",
    "charset = string.ascii_lowercase + string.ascii_uppercase + string.punctuation + string.digits\n",
    "\n",
    "def generate_replacements_table(charset: str) -> dict[str, str]:\n",
    "    replacements_table_idx: dict[int, int] = dict()\n",
    "    for i in range(len(charset)):\n",
    "        available_positions = list(set(range(len(charset))).difference(replacements_table_idx.values()))\n",
    "        new_position = random.choice(available_positions)\n",
    "        replacements_table_idx[i] = new_position\n",
    "    \n",
    "    replacements_table = {\n",
    "        charset[k]: charset[v] for k, v in replacements_table_idx.items()\n",
    "    }\n",
    "\n",
    "    return replacements_table"
   ]
  },
  {
   "cell_type": "code",
   "execution_count": 15,
   "metadata": {},
   "outputs": [],
   "source": [
    "\n",
    "def encrypt(plain_text: str, replacements_table: dict[str, str]) -> str:\n",
    "    char_positions: dict[str, list[int]] = {c: [] for c in set(plain_text)}\n",
    "\n",
    "    for i in range(len(plain_text)):\n",
    "        char_positions[plain_text[i]].append(i)\n",
    "\n",
    "    ciphertext = [c for c in plain_text]\n",
    "    for c, positions in char_positions.items():\n",
    "        for pos in positions:\n",
    "            ciphertext[pos] = replacements_table[c]\n",
    "    \n",
    "    return \"\".join(ciphertext)"
   ]
  },
  {
   "cell_type": "code",
   "execution_count": 16,
   "metadata": {},
   "outputs": [],
   "source": [
    "def decrypt(ciphertext: str, replacements_table: dict[str, str]) -> str:\n",
    "    repl_table_decr = {v: k for k, v in replacements_table.items()}\n",
    "    char_positions: dict[str, list[int]] = {c: [] for c in set(ciphertext)}\n",
    "\n",
    "    for i in range(len(ciphertext)):\n",
    "        char_positions[ciphertext[i]].append(i)\n",
    "\n",
    "    plain_text = [c for c in ciphertext]\n",
    "    for c, positions in char_positions.items():\n",
    "        for pos in positions:\n",
    "            plain_text[pos] = repl_table_decr[c]\n",
    "    \n",
    "    return \"\".join(plain_text)"
   ]
  },
  {
   "cell_type": "code",
   "execution_count": 24,
   "metadata": {},
   "outputs": [
    {
     "data": {
      "text/plain": [
       "{'a': 'a', 'b': '@', 'c': '7', 'd': 'L', 'e': '$'}"
      ]
     },
     "execution_count": 24,
     "metadata": {},
     "output_type": "execute_result"
    }
   ],
   "source": [
    "replacements_table = generate_replacements_table(charset)\n",
    "dict(tuple(replacements_table.items())[:5])"
   ]
  },
  {
   "cell_type": "code",
   "execution_count": 25,
   "metadata": {},
   "outputs": [
    {
     "data": {
      "text/plain": [
       "'s$FF4'"
      ]
     },
     "execution_count": 25,
     "metadata": {},
     "output_type": "execute_result"
    }
   ],
   "source": [
    "encrypted = encrypt(\"hello\", replacements_table)\n",
    "encrypted"
   ]
  },
  {
   "cell_type": "code",
   "execution_count": 26,
   "metadata": {},
   "outputs": [
    {
     "data": {
      "text/plain": [
       "'hello'"
      ]
     },
     "execution_count": 26,
     "metadata": {},
     "output_type": "execute_result"
    }
   ],
   "source": [
    "decrypted = decrypt(encrypted, replacements_table)\n",
    "decrypted"
   ]
  }
 ],
 "metadata": {
  "kernelspec": {
   "display_name": "Python 3",
   "language": "python",
   "name": "python3"
  },
  "language_info": {
   "codemirror_mode": {
    "name": "ipython",
    "version": 3
   },
   "file_extension": ".py",
   "mimetype": "text/x-python",
   "name": "python",
   "nbconvert_exporter": "python",
   "pygments_lexer": "ipython3",
   "version": "3.11.9"
  }
 },
 "nbformat": 4,
 "nbformat_minor": 2
}
