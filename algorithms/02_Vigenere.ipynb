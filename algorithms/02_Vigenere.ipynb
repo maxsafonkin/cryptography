{
 "cells": [
  {
   "cell_type": "markdown",
   "metadata": {},
   "source": [
    "# Шифр Виженера "
   ]
  },
  {
   "cell_type": "markdown",
   "metadata": {},
   "source": [
    "Суть метода заключается в выборе ключевого слова и сдвиге каждой буквы сообщения на k вправо, где k - алфавитный номер буквы в ключевом слове. Последовательно итерироваться по буквам ключевого слова (итерироваться по модулю)"
   ]
  },
  {
   "cell_type": "code",
   "execution_count": 6,
   "metadata": {},
   "outputs": [],
   "source": [
    "import string\n",
    "\n",
    "charset = string.ascii_lowercase + string.ascii_uppercase + string.punctuation + string.digits\n",
    "idx2char = {i: charset[i] for i in range(len(charset))}\n",
    "char2idx = {v: k for k, v in idx2char.items()}"
   ]
  },
  {
   "cell_type": "code",
   "execution_count": 7,
   "metadata": {},
   "outputs": [],
   "source": [
    "def encrypt(plain_text: str, key: str) -> str:\n",
    "    ciphertext = [c for c in plain_text]\n",
    "    for i in range(len(ciphertext)):\n",
    "        ciphertext[i] = idx2char[\n",
    "            char2idx[ciphertext[i]] + char2idx[key[i%4]]\n",
    "        ]\n",
    "\n",
    "    return \"\".join(ciphertext)"
   ]
  },
  {
   "cell_type": "code",
   "execution_count": 2,
   "metadata": {},
   "outputs": [],
   "source": [
    "def decrypt(ciphertext: str, key: str) -> str:\n",
    "    plain_text = [c for c in ciphertext]\n",
    "    for i in range(len(plain_text)):\n",
    "        plain_text[i] = idx2char[\n",
    "            char2idx[plain_text[i]] - char2idx[key[i%4]]\n",
    "        ]\n",
    "\n",
    "    return \"\".join(plain_text)"
   ]
  },
  {
   "cell_type": "code",
   "execution_count": 3,
   "metadata": {},
   "outputs": [],
   "source": [
    "key = \"HELLO\""
   ]
  },
  {
   "cell_type": "code",
   "execution_count": 4,
   "metadata": {},
   "outputs": [
    {
     "data": {
      "text/plain": [
       "'OIWWV'"
      ]
     },
     "execution_count": 4,
     "metadata": {},
     "output_type": "execute_result"
    }
   ],
   "source": [
    "encrypted = encrypt(\"hello\", key)\n",
    "encrypted"
   ]
  },
  {
   "cell_type": "code",
   "execution_count": 5,
   "metadata": {},
   "outputs": [
    {
     "data": {
      "text/plain": [
       "'hello'"
      ]
     },
     "execution_count": 5,
     "metadata": {},
     "output_type": "execute_result"
    }
   ],
   "source": [
    "decrypted = decrypt(encrypted, key)\n",
    "decrypted"
   ]
  }
 ],
 "metadata": {
  "kernelspec": {
   "display_name": "Python 3",
   "language": "python",
   "name": "python3"
  },
  "language_info": {
   "codemirror_mode": {
    "name": "ipython",
    "version": 3
   },
   "file_extension": ".py",
   "mimetype": "text/x-python",
   "name": "python",
   "nbconvert_exporter": "python",
   "pygments_lexer": "ipython3",
   "version": "3.11.9"
  }
 },
 "nbformat": 4,
 "nbformat_minor": 2
}
