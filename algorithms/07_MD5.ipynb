{
 "cells": [
  {
   "cell_type": "code",
   "execution_count": 1,
   "metadata": {},
   "outputs": [],
   "source": [
    "import math\n",
    "\n",
    "ROTATION_AMOUNTS = [\n",
    "    7, 12, 17, 22, 7, 12, 17, 22, 7, 12, 17, 22, 7, 12, 17, 22,\n",
    "    5, 9, 14, 20, 5, 9, 14, 20, 5, 9, 14, 20, 5, 9, 14, 20,\n",
    "    4, 11, 16, 23, 4, 11, 16, 23, 4, 11, 16, 23, 4, 11, 16, 23,\n",
    "    6, 10, 15, 21, 6, 10, 15, 21, 6, 10, 15, 21, 6, 10, 15, 21\n",
    "]\n",
    "\n",
    "SIN_CONSTANTS = [\n",
    "    int(abs(math.sin(i + 1)) * 2**32) & 0xFFFFFFFF for i in range(64)\n",
    "]\n",
    "\n",
    "INITIAL_HASH_VALUES = [0x67452301, 0xefcdab89, 0x98badcfe, 0x10325476]\n",
    "\n",
    "MD5_FUNCTIONS = (\n",
    "    16 * [lambda b, c, d: (b & c) | (~b & d)] +\n",
    "    16 * [lambda b, c, d: (d & b) | (~d & c)] +\n",
    "    16 * [lambda b, c, d: b ^ c ^ d] +\n",
    "    16 * [lambda b, c, d: c ^ (b | ~d)]\n",
    ")\n",
    "\n",
    "INDEX_TRANSFORM_FUNCTIONS = (\n",
    "    16 * [lambda i: i] +\n",
    "    16 * [lambda i: (5 * i + 1) % 16] +\n",
    "    16 * [lambda i: (3 * i + 5) % 16] +\n",
    "    16 * [lambda i: (7 * i) % 16]\n",
    ")\n",
    "\n",
    "def left_rotate(value, shift_amount):\n",
    "    value &= 0xFFFFFFFF\n",
    "    return ((value << shift_amount) | (value >> (32 - shift_amount))) & 0xFFFFFFFF"
   ]
  },
  {
   "cell_type": "code",
   "execution_count": 2,
   "metadata": {},
   "outputs": [],
   "source": [
    "def md5(message: str) -> str:\n",
    "    message = bytearray(message.encode())\n",
    "    original_length_bits = (8 * len(message)) & 0xFFFFFFFFFFFFFFFF\n",
    "    message.append(0x80)\n",
    "    while len(message) % 64 != 56:\n",
    "        message.append(0)\n",
    "    message += original_length_bits.to_bytes(8, byteorder='little')\n",
    "\n",
    "    hash_values = INITIAL_HASH_VALUES[:]\n",
    "    for chunk_start in range(0, len(message), 64):\n",
    "        a, b, c, d = hash_values\n",
    "        chunk = message[chunk_start:chunk_start + 64]\n",
    "\n",
    "        for i in range(64):\n",
    "            f = MD5_FUNCTIONS[i](b, c, d)\n",
    "            g = INDEX_TRANSFORM_FUNCTIONS[i](i)\n",
    "            to_rotate = (\n",
    "                a + f + SIN_CONSTANTS[i] +\n",
    "                int.from_bytes(chunk[4 * g:4 * g + 4], byteorder='little')\n",
    "            )\n",
    "            new_b = (b + left_rotate(to_rotate, ROTATION_AMOUNTS[i])) & 0xFFFFFFFF\n",
    "            a, b, c, d = d, new_b, b, c\n",
    "\n",
    "        for i, value in enumerate([a, b, c, d]):\n",
    "            hash_values[i] += value\n",
    "            hash_values[i] &= 0xFFFFFFFF\n",
    "\n",
    "    s = sum(x << (32 * i) for i, x in enumerate(hash_values))\n",
    "    raw_bytes = s.to_bytes(16, byteorder='little')\n",
    "    return '{:032x}'.format(int.from_bytes(raw_bytes, byteorder='big'))\n"
   ]
  },
  {
   "cell_type": "code",
   "execution_count": 3,
   "metadata": {},
   "outputs": [
    {
     "name": "stdout",
     "output_type": "stream",
     "text": [
      "3e9afbc27864a4d0b2d425247128e600\n",
      "True\n"
     ]
    }
   ],
   "source": [
    "import hashlib\n",
    "\n",
    "def check(msg: str, hashsum: str) -> bool:\n",
    "    return hashlib.md5(msg.encode()).hexdigest() == hashsum\n",
    "\n",
    "msg = \"FBIT 336959\"\n",
    "md5_hash = md5(msg)\n",
    "print(md5_hash)\n",
    "print(check(msg, md5_hash))\n"
   ]
  },
  {
   "cell_type": "code",
   "execution_count": null,
   "metadata": {},
   "outputs": [],
   "source": []
  }
 ],
 "metadata": {
  "kernelspec": {
   "display_name": "Python 3",
   "language": "python",
   "name": "python3"
  },
  "language_info": {
   "codemirror_mode": {
    "name": "ipython",
    "version": 3
   },
   "file_extension": ".py",
   "mimetype": "text/x-python",
   "name": "python",
   "nbconvert_exporter": "python",
   "pygments_lexer": "ipython3",
   "version": "3.11.9"
  }
 },
 "nbformat": 4,
 "nbformat_minor": 2
}
